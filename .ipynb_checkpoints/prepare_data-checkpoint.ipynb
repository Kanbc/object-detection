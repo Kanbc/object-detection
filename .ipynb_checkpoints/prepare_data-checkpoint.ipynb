{
 "cells": [
  {
   "cell_type": "code",
   "execution_count": 49,
   "metadata": {},
   "outputs": [],
   "source": [
    "import os\n",
    "import shutil\n",
    "from os import listdir\n",
    "from random import shuffle\n",
    "\n",
    "def copy_rename(old_file_name, new_file_name):\n",
    "        src_dir= os.getcwd()\n",
    "        dst_file= os.path.join(src_dir , new_file_name)\n",
    "        src_file = os.path.join(src_dir, old_file_name)\n",
    "        shutil.copy(src_file,dst_file)"
   ]
  },
  {
   "cell_type": "code",
   "execution_count": 6,
   "metadata": {},
   "outputs": [],
   "source": [
    "idcard0 = sorted(listdir('train/person_with_card/idcard_0/'))\n",
    "idcard0.remove('.DS_Store')\n",
    "idcard90 = sorted(listdir('train/person_with_card/idcard_90/'))\n",
    "idcard90.remove('.DS_Store')\n",
    "idcard180 = sorted(listdir('train/person_with_card/idcard_180/'))\n",
    "idcard180.remove('.DS_Store')\n",
    "idcard270 = sorted(listdir('train/person_with_card/idcard_270/'))\n",
    "idcard270.remove('.DS_Store')\n",
    "\n",
    "pac0 = sorted(listdir('train/person_with_card/0/'))\n",
    "pac0.remove('.DS_Store')\n",
    "pac90 = sorted(listdir('train/person_with_card/90/'))\n",
    "pac90.remove('.DS_Store')\n",
    "pac180 = sorted(listdir('train/person_with_card/180/'))\n",
    "pac180.remove('.DS_Store')\n",
    "pac270 = sorted(listdir('train/person_with_card/270/'))\n",
    "pac270.remove('.DS_Store')"
   ]
  },
  {
   "cell_type": "code",
   "execution_count": 34,
   "metadata": {},
   "outputs": [
    {
     "name": "stdout",
     "output_type": "stream",
     "text": [
      "/Users/pawarisson/Desktop/Project/object-detection/train/person_with_card/0/-0t1e9DYa_mySelfieWithIDCardImage.jpg\n",
      "/Users/pawarisson/Desktop/Project/object-detection/train/Img2/test.jpg\n"
     ]
    }
   ],
   "source": [
    "copy_rename('train/person_with_card/0/-0t1e9DYa_mySelfieWithIDCardImage.jpg','train/Img2/test.jpg')"
   ]
  },
  {
   "cell_type": "code",
   "execution_count": 56,
   "metadata": {},
   "outputs": [],
   "source": [
    "# total set\n",
    "total = 2000\n",
    "\n",
    "# จาก 4621 สุ่มหยิบ 1000\n",
    "idcard_set = list(range(len(idcard0)))\n",
    "shuffle(idcard_set)\n",
    "idcard_sampling = idcard_set[0:int(total/2)]\n",
    "\n",
    "# จาก 3293 สุ่มหยิบ 1000\n",
    "pac_set = list(range(len(pac0)))\n",
    "shuffle(pac_set)\n",
    "pac_sampling = pac_set[0:int(total/2)]"
   ]
  },
  {
   "cell_type": "code",
   "execution_count": 59,
   "metadata": {},
   "outputs": [
    {
     "data": {
      "text/plain": [
       "'1HZA2yxaG_myIDCardImage.jpg'"
      ]
     },
     "execution_count": 59,
     "metadata": {},
     "output_type": "execute_result"
    }
   ],
   "source": [
    "idcard0[idcard_sampling[0]]"
   ]
  },
  {
   "cell_type": "code",
   "execution_count": 64,
   "metadata": {},
   "outputs": [],
   "source": [
    "for i in range(total):\n",
    "    if i < 1000:\n",
    "        if 0<= i < 250:\n",
    "            old_filename = idcard0[idcard_sampling[i]]\n",
    "            copy_rename('train/person_with_card/idcard_0/' + old_filename,'train/Img2/' + str(i) + '.jpg')\n",
    "\n",
    "        elif 250 <= i < 500:\n",
    "            old_filename = idcard90[idcard_sampling[i]]\n",
    "            copy_rename('train/person_with_card/idcard_90/' + old_filename,'train/Img2/' + str(i) + '.jpg')\n",
    "\n",
    "        elif 500 <= i < 750:\n",
    "            old_filename = idcard180[idcard_sampling[i]]\n",
    "            copy_rename('train/person_with_card/idcard_180/' + old_filename,'train/Img2/' + str(i) + '.jpg')\n",
    "\n",
    "        elif 750 <= i < 1000:\n",
    "            old_filename = idcard270[idcard_sampling[i]]\n",
    "            copy_rename('train/person_with_card/idcard_270/' + old_filename,'train/Img2/' + str(i) + '.jpg')\n",
    "            \n",
    "        else:\n",
    "            pass\n",
    "    else:\n",
    "        if 1000 <= i < 1250:\n",
    "            old_filename = pac0[pac_sampling[i-1000]]\n",
    "            copy_rename('train/person_with_card/0/' + old_filename,'train/Img2/' + str(i) + '.jpg')\n",
    "\n",
    "        elif 1250 <= i < 1500:\n",
    "            old_filename = pac90[pac_sampling[i-1000]]\n",
    "            copy_rename('train/person_with_card/90/' + old_filename,'train/Img2/' + str(i) + '.jpg')\n",
    "        \n",
    "        elif 1500 <= i < 1750:\n",
    "            old_filename = pac180[pac_sampling[i-1000]]\n",
    "            copy_rename('train/person_with_card/180/' + old_filename,'train/Img2/' + str(i) + '.jpg')\n",
    "        \n",
    "        elif 1750 <= i < 2000:\n",
    "            old_filename = pac270[pac_sampling[i-1000]]\n",
    "            copy_rename('train/person_with_card/270/' + old_filename,'train/Img2/' + str(i) + '.jpg')\n",
    "\n",
    "        else:\n",
    "            pass"
   ]
  },
  {
   "cell_type": "code",
   "execution_count": null,
   "metadata": {},
   "outputs": [],
   "source": []
  }
 ],
 "metadata": {
  "kernelspec": {
   "display_name": "Python 3",
   "language": "python",
   "name": "python3"
  },
  "language_info": {
   "codemirror_mode": {
    "name": "ipython",
    "version": 3
   },
   "file_extension": ".py",
   "mimetype": "text/x-python",
   "name": "python",
   "nbconvert_exporter": "python",
   "pygments_lexer": "ipython3",
   "version": "3.6.6"
  }
 },
 "nbformat": 4,
 "nbformat_minor": 2
}
